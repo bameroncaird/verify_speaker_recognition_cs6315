{
 "cells": [
  {
   "cell_type": "code",
   "execution_count": 2,
   "metadata": {},
   "outputs": [
    {
     "name": "stdout",
     "output_type": "stream",
     "text": [
      "Model: \"sequential\"\n",
      "_________________________________________________________________\n",
      " Layer (type)                Output Shape              Param #   \n",
      "=================================================================\n",
      " dense (Dense)               (None, 16)                32016     \n",
      "                                                                 \n",
      " dense_1 (Dense)             (None, 10)                170       \n",
      "                                                                 \n",
      " softmax (Softmax)           (None, 10)                0         \n",
      "                                                                 \n",
      "=================================================================\n",
      "Total params: 32186 (125.73 KB)\n",
      "Trainable params: 32186 (125.73 KB)\n",
      "Non-trainable params: 0 (0.00 Byte)\n",
      "_________________________________________________________________\n"
     ]
    },
    {
     "name": "stderr",
     "output_type": "stream",
     "text": [
      "2024-04-30 16:47:18.573123: I tensorflow/core/common_runtime/gpu/gpu_device.cc:1929] Created device /job:localhost/replica:0/task:0/device:GPU:0 with 22422 MB memory:  -> device: 0, name: NVIDIA GeForce RTX 3090, pci bus id: 0000:17:00.0, compute capability: 8.6\n"
     ]
    }
   ],
   "source": [
    "import numpy as np\n",
    "import librosa\n",
    "import keras\n",
    "\n",
    "\n",
    "SAMPLE_RATE = 2000\n",
    "\n",
    "\n",
    "model_save_dir = '../saved_models/mlp_dense16_mu_compress_rate_2kHz'\n",
    "model = keras.models.load_model(model_save_dir)\n",
    "model.summary()\n",
    "\n",
    "\n",
    "def add_background_noise(signal, epsilon=0.25):\n",
    "    noise = np.random.uniform(low=-epsilon, high=epsilon, size=signal.shape)\n",
    "    noisy_signal = signal + noise\n",
    "    noisy_signal = np.clip(noisy_signal, -128, 127)\n",
    "    return noisy_signal\n",
    "\n",
    "\n",
    "def load_waveform(file_path):\n",
    "    original_sr = 16000\n",
    "    signal, _ = librosa.load(\n",
    "        path=file_path,\n",
    "        sr=original_sr,\n",
    "        mono=True,\n",
    "        offset=0.0,\n",
    "        duration=1.0,\n",
    "        dtype=np.float32, # original: 16-bit audio\n",
    "        res_type='soxr_hq' # see docs for librosa.resample\n",
    "    )\n",
    "    noisy_signal = add_background_noise(signal)\n",
    "\n",
    "    signal_downsample = librosa.resample(signal, original_sr, SAMPLE_RATE)\n",
    "    noisy_signal_downsample = librosa.resample(noisy_signal, original_sr, SAMPLE_RATE)\n",
    "\n",
    "    signal_downsample = librosa.mu_compress(signal_downsample, mu=255)\n",
    "    noisy_signal_downsample = librosa.mu_compress(noisy_signal_downsample, mu=255)\n",
    "\n",
    "    return signal, noisy_signal, signal_downsample, noisy_signal_downsample\n",
    "\n",
    "\n",
    "sample_file = '/home/cameron/voice_data/LibriSpeech/train-clean-100/211/122425/211-122425-0019.flac'\n",
    "#sample_file = '/home/cameron/voice_data/LibriSpeech/train-clean-100/4014/186179/4014-186179-0015.flac'\n",
    "\n",
    "signal = load_waveform(sample_file)\n",
    "noisy_signal = add_background_noise(signal)\n",
    "\n",
    "y_signal = model.predict()"
   ]
  },
  {
   "cell_type": "code",
   "execution_count": null,
   "metadata": {},
   "outputs": [],
   "source": []
  }
 ],
 "metadata": {
  "kernelspec": {
   "display_name": "cs6315",
   "language": "python",
   "name": "python3"
  },
  "language_info": {
   "codemirror_mode": {
    "name": "ipython",
    "version": 3
   },
   "file_extension": ".py",
   "mimetype": "text/x-python",
   "name": "python",
   "nbconvert_exporter": "python",
   "pygments_lexer": "ipython3",
   "version": "3.9.19"
  }
 },
 "nbformat": 4,
 "nbformat_minor": 2
}
