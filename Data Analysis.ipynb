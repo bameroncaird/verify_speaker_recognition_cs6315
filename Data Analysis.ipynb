{
 "cells": [
  {
   "cell_type": "markdown",
   "metadata": {},
   "source": [
    "# Data Analysis\n",
    "\n",
    "Austin Coursey and Cameron Baird\n",
    "\n",
    "Analyzing data generated from speaker identification verification."
   ]
  },
  {
   "cell_type": "code",
   "execution_count": 2,
   "metadata": {},
   "outputs": [],
   "source": [
    "import matplotlib.pyplot as plt\n",
    "import numpy as np \n",
    "import pandas as pd\n",
    "import os"
   ]
  },
  {
   "cell_type": "code",
   "execution_count": 4,
   "metadata": {},
   "outputs": [
    {
     "data": {
      "text/plain": [
       "['mlp_adversarial_dense16_mu_compress_rate_2kHz_eps_0.25_approx.csv',\n",
       " 'mlp_adversarial_dense16_mu_compress_rate_2kHz_eps_0.25_exact.csv',\n",
       " 'mlp_dense16_mu_compress_rate_2kHz_eps_0.01_approx.csv',\n",
       " 'mlp_dense16_mu_compress_rate_2kHz_eps_0.01_exact.csv',\n",
       " 'mlp_dense16_mu_compress_rate_2kHz_eps_0.05_approx.csv',\n",
       " 'mlp_dense16_mu_compress_rate_2kHz_eps_0.05_exact.csv',\n",
       " 'mlp_dense16_mu_compress_rate_2kHz_eps_0.1_approx.csv',\n",
       " 'mlp_dense16_mu_compress_rate_2kHz_eps_0.1_exact.csv',\n",
       " 'mlp_dense16_mu_compress_rate_2kHz_eps_0.25_approx.csv']"
      ]
     },
     "execution_count": 4,
     "metadata": {},
     "output_type": "execute_result"
    }
   ],
   "source": [
    "os.listdir('./data/')"
   ]
  },
  {
   "cell_type": "code",
   "execution_count": 39,
   "metadata": {},
   "outputs": [],
   "source": [
    "def calculate_metrics(dataset, name):\n",
    "    print(f'Metrics for {name}')\n",
    "    \n",
    "    robust_percentage = np.mean(dataset['robust'] == 1)\n",
    "    print(f'Percentage robust: {robust_percentage}')\n",
    "    \n",
    "    percent_correct = np.mean(dataset[' target'] == dataset[' y_pred'])\n",
    "    print(f'Percentage correct: {percent_correct}')\n",
    "    \n",
    "    setup_time = dataset[' time_setup'].to_numpy()\n",
    "    star_time = dataset[' time_star'].to_numpy()\n",
    "    verify_time = dataset[' time_verify'].to_numpy()\n",
    "    \n",
    "    print(f'Average time to setup: {np.mean(setup_time+star_time):.4f} + time to verify: {np.mean(verify_time+star_time):.4f} = {np.mean(setup_time+verify_time+star_time):.4f}')\n",
    "    print()"
   ]
  },
  {
   "cell_type": "markdown",
   "metadata": {},
   "source": [
    "#### Metrics across all data"
   ]
  },
  {
   "cell_type": "code",
   "execution_count": 40,
   "metadata": {},
   "outputs": [
    {
     "name": "stdout",
     "output_type": "stream",
     "text": [
      "Metrics for mlp_adversarial_dense16_mu_compress_rate_2kHz_eps_0.25_approx.csv\n",
      "Percentage robust: 0.594\n",
      "Percentage correct: 0.967\n",
      "Average time to setup: 0.0715 + time to verify: 0.1203 = 0.1245\n",
      "\n",
      "Metrics for mlp_adversarial_dense16_mu_compress_rate_2kHz_eps_0.25_exact.csv\n",
      "Percentage robust: 0.663\n",
      "Percentage correct: 0.967\n",
      "Average time to setup: 0.0677 + time to verify: 0.7444 = 0.7486\n",
      "\n",
      "Metrics for mlp_dense16_mu_compress_rate_2kHz_eps_0.01_approx.csv\n",
      "Percentage robust: 0.967\n",
      "Percentage correct: 0.967\n",
      "Average time to setup: 0.0720 + time to verify: 0.0882 = 0.0926\n",
      "\n",
      "Metrics for mlp_dense16_mu_compress_rate_2kHz_eps_0.01_exact.csv\n",
      "Percentage robust: 0.967\n",
      "Percentage correct: 0.967\n",
      "Average time to setup: 0.0757 + time to verify: 0.0940 = 0.0985\n",
      "\n",
      "Metrics for mlp_dense16_mu_compress_rate_2kHz_eps_0.05_approx.csv\n",
      "Percentage robust: 0.966\n",
      "Percentage correct: 0.967\n",
      "Average time to setup: 0.0729 + time to verify: 0.0928 = 0.0972\n",
      "\n",
      "Metrics for mlp_dense16_mu_compress_rate_2kHz_eps_0.05_exact.csv\n",
      "Percentage robust: 0.966\n",
      "Percentage correct: 0.967\n",
      "Average time to setup: 0.0766 + time to verify: 0.1104 = 0.1149\n",
      "\n",
      "Metrics for mlp_dense16_mu_compress_rate_2kHz_eps_0.1_approx.csv\n",
      "Percentage robust: 0.951\n",
      "Percentage correct: 0.967\n",
      "Average time to setup: 0.0727 + time to verify: 0.0981 = 0.1025\n",
      "\n",
      "Metrics for mlp_dense16_mu_compress_rate_2kHz_eps_0.1_exact.csv\n",
      "Percentage robust: 0.958\n",
      "Percentage correct: 0.967\n",
      "Average time to setup: 0.0765 + time to verify: 0.1492 = 0.1537\n",
      "\n",
      "Metrics for mlp_dense16_mu_compress_rate_2kHz_eps_0.25_approx.csv\n",
      "Percentage robust: 0.624\n",
      "Percentage correct: 0.967\n",
      "Average time to setup: 0.0718 + time to verify: 0.1174 = 0.1216\n",
      "\n"
     ]
    }
   ],
   "source": [
    "data_dir = './data/'\n",
    "for path in os.listdir(data_dir):\n",
    "    full_path = data_dir + path\n",
    "    calculate_metrics(pd.read_csv(full_path), path)"
   ]
  },
  {
   "cell_type": "code",
   "execution_count": 17,
   "metadata": {},
   "outputs": [
    {
     "data": {
      "text/html": [
       "<div>\n",
       "<style scoped>\n",
       "    .dataframe tbody tr th:only-of-type {\n",
       "        vertical-align: middle;\n",
       "    }\n",
       "\n",
       "    .dataframe tbody tr th {\n",
       "        vertical-align: top;\n",
       "    }\n",
       "\n",
       "    .dataframe thead th {\n",
       "        text-align: right;\n",
       "    }\n",
       "</style>\n",
       "<table border=\"1\" class=\"dataframe\">\n",
       "  <thead>\n",
       "    <tr style=\"text-align: right;\">\n",
       "      <th></th>\n",
       "      <th>robust</th>\n",
       "      <th>target</th>\n",
       "      <th>y_pred</th>\n",
       "      <th>time_setup</th>\n",
       "      <th>time_star</th>\n",
       "      <th>time_verify</th>\n",
       "      <th>line_number</th>\n",
       "      <th>file_path</th>\n",
       "      <th>y1</th>\n",
       "      <th>y2</th>\n",
       "      <th>y3</th>\n",
       "      <th>y4</th>\n",
       "      <th>y5</th>\n",
       "      <th>y6</th>\n",
       "      <th>y7</th>\n",
       "      <th>y8</th>\n",
       "      <th>y9</th>\n",
       "      <th>y10</th>\n",
       "    </tr>\n",
       "  </thead>\n",
       "  <tbody>\n",
       "    <tr>\n",
       "      <th>0</th>\n",
       "      <td>1</td>\n",
       "      <td>1</td>\n",
       "      <td>1</td>\n",
       "      <td>0.006989</td>\n",
       "      <td>0.086177</td>\n",
       "      <td>0.018026</td>\n",
       "      <td>1</td>\n",
       "      <td>C:\\Users\\camer\\Documents\\data\\LibriSpeech\\tra...</td>\n",
       "      <td>70.129128</td>\n",
       "      <td>-69.808289</td>\n",
       "      <td>64.851021</td>\n",
       "      <td>16.713888</td>\n",
       "      <td>-27.279943</td>\n",
       "      <td>29.382544</td>\n",
       "      <td>-3.693422</td>\n",
       "      <td>-2.574194</td>\n",
       "      <td>-31.242453</td>\n",
       "      <td>44.572830</td>\n",
       "    </tr>\n",
       "    <tr>\n",
       "      <th>1</th>\n",
       "      <td>1</td>\n",
       "      <td>1</td>\n",
       "      <td>1</td>\n",
       "      <td>0.004170</td>\n",
       "      <td>0.062445</td>\n",
       "      <td>0.020232</td>\n",
       "      <td>2</td>\n",
       "      <td>C:\\Users\\camer\\Documents\\data\\LibriSpeech\\tra...</td>\n",
       "      <td>112.095795</td>\n",
       "      <td>-111.525642</td>\n",
       "      <td>107.164124</td>\n",
       "      <td>24.732317</td>\n",
       "      <td>-68.256996</td>\n",
       "      <td>64.627121</td>\n",
       "      <td>-8.127777</td>\n",
       "      <td>11.603613</td>\n",
       "      <td>-57.639313</td>\n",
       "      <td>63.890179</td>\n",
       "    </tr>\n",
       "    <tr>\n",
       "      <th>2</th>\n",
       "      <td>1</td>\n",
       "      <td>1</td>\n",
       "      <td>1</td>\n",
       "      <td>0.004294</td>\n",
       "      <td>0.062420</td>\n",
       "      <td>0.020932</td>\n",
       "      <td>3</td>\n",
       "      <td>C:\\Users\\camer\\Documents\\data\\LibriSpeech\\tra...</td>\n",
       "      <td>100.729118</td>\n",
       "      <td>-107.588486</td>\n",
       "      <td>91.740532</td>\n",
       "      <td>18.462566</td>\n",
       "      <td>-48.270275</td>\n",
       "      <td>52.478962</td>\n",
       "      <td>7.754155</td>\n",
       "      <td>4.013506</td>\n",
       "      <td>-54.675766</td>\n",
       "      <td>50.364292</td>\n",
       "    </tr>\n",
       "    <tr>\n",
       "      <th>3</th>\n",
       "      <td>1</td>\n",
       "      <td>1</td>\n",
       "      <td>1</td>\n",
       "      <td>0.005041</td>\n",
       "      <td>0.068666</td>\n",
       "      <td>0.019911</td>\n",
       "      <td>4</td>\n",
       "      <td>C:\\Users\\camer\\Documents\\data\\LibriSpeech\\tra...</td>\n",
       "      <td>140.188797</td>\n",
       "      <td>-145.470551</td>\n",
       "      <td>132.650131</td>\n",
       "      <td>26.527159</td>\n",
       "      <td>-91.247337</td>\n",
       "      <td>88.122353</td>\n",
       "      <td>0.663629</td>\n",
       "      <td>19.833471</td>\n",
       "      <td>-79.628799</td>\n",
       "      <td>69.191956</td>\n",
       "    </tr>\n",
       "    <tr>\n",
       "      <th>4</th>\n",
       "      <td>1</td>\n",
       "      <td>1</td>\n",
       "      <td>1</td>\n",
       "      <td>0.005302</td>\n",
       "      <td>0.068312</td>\n",
       "      <td>0.025691</td>\n",
       "      <td>5</td>\n",
       "      <td>C:\\Users\\camer\\Documents\\data\\LibriSpeech\\tra...</td>\n",
       "      <td>111.612823</td>\n",
       "      <td>-126.881332</td>\n",
       "      <td>98.772652</td>\n",
       "      <td>15.481234</td>\n",
       "      <td>-53.036541</td>\n",
       "      <td>61.761936</td>\n",
       "      <td>23.127144</td>\n",
       "      <td>6.164560</td>\n",
       "      <td>-67.726311</td>\n",
       "      <td>44.515308</td>\n",
       "    </tr>\n",
       "  </tbody>\n",
       "</table>\n",
       "</div>"
      ],
      "text/plain": [
       "   robust   target   y_pred   time_setup   time_star   time_verify   \n",
       "0       1        1        1     0.006989    0.086177      0.018026  \\\n",
       "1       1        1        1     0.004170    0.062445      0.020232   \n",
       "2       1        1        1     0.004294    0.062420      0.020932   \n",
       "3       1        1        1     0.005041    0.068666      0.019911   \n",
       "4       1        1        1     0.005302    0.068312      0.025691   \n",
       "\n",
       "    line_number                                          file_path   \n",
       "0             1   C:\\Users\\camer\\Documents\\data\\LibriSpeech\\tra...  \\\n",
       "1             2   C:\\Users\\camer\\Documents\\data\\LibriSpeech\\tra...   \n",
       "2             3   C:\\Users\\camer\\Documents\\data\\LibriSpeech\\tra...   \n",
       "3             4   C:\\Users\\camer\\Documents\\data\\LibriSpeech\\tra...   \n",
       "4             5   C:\\Users\\camer\\Documents\\data\\LibriSpeech\\tra...   \n",
       "\n",
       "           y1          y2          y3         y4         y5         y6   \n",
       "0   70.129128  -69.808289   64.851021  16.713888 -27.279943  29.382544  \\\n",
       "1  112.095795 -111.525642  107.164124  24.732317 -68.256996  64.627121   \n",
       "2  100.729118 -107.588486   91.740532  18.462566 -48.270275  52.478962   \n",
       "3  140.188797 -145.470551  132.650131  26.527159 -91.247337  88.122353   \n",
       "4  111.612823 -126.881332   98.772652  15.481234 -53.036541  61.761936   \n",
       "\n",
       "          y7         y8         y9        y10  \n",
       "0  -3.693422  -2.574194 -31.242453  44.572830  \n",
       "1  -8.127777  11.603613 -57.639313  63.890179  \n",
       "2   7.754155   4.013506 -54.675766  50.364292  \n",
       "3   0.663629  19.833471 -79.628799  69.191956  \n",
       "4  23.127144   6.164560 -67.726311  44.515308  "
      ]
     },
     "execution_count": 17,
     "metadata": {},
     "output_type": "execute_result"
    }
   ],
   "source": [
    "eps25_data = pd.read_csv('./data/mlp_dense16_mu_compress_rate_2kHz_eps_0.25_approx.csv')\n",
    "eps25_data.head()"
   ]
  },
  {
   "cell_type": "code",
   "execution_count": 29,
   "metadata": {},
   "outputs": [
    {
     "name": "stdout",
     "output_type": "stream",
     "text": [
      "Percentage robust: 0.624\n",
      "Average time to setup: 0.0718 + time to verify: 0.1174 = 0.1216\n"
     ]
    }
   ],
   "source": [
    "calculate_metrics(eps25_data)"
   ]
  },
  {
   "cell_type": "markdown",
   "metadata": {},
   "source": [
    "### $\\epsilon=0.25$ MLP Approximate Adversarial Robustness Training"
   ]
  },
  {
   "cell_type": "code",
   "execution_count": 30,
   "metadata": {},
   "outputs": [
    {
     "name": "stdout",
     "output_type": "stream",
     "text": [
      "Percentage robust: 0.594\n",
      "Average time to setup: 0.0715 + time to verify: 0.1203 = 0.1245\n"
     ]
    }
   ],
   "source": [
    "eps25_adv_data = pd.read_csv('./data/mlp_adversarial_dense16_mu_compress_rate_2kHz_eps_0.25_approx.csv')\n",
    "calculate_metrics(eps25_adv_data)"
   ]
  }
 ],
 "metadata": {
  "kernelspec": {
   "display_name": "deep_learn",
   "language": "python",
   "name": "python3"
  },
  "language_info": {
   "codemirror_mode": {
    "name": "ipython",
    "version": 3
   },
   "file_extension": ".py",
   "mimetype": "text/x-python",
   "name": "python",
   "nbconvert_exporter": "python",
   "pygments_lexer": "ipython3",
   "version": "3.10.9"
  }
 },
 "nbformat": 4,
 "nbformat_minor": 2
}
