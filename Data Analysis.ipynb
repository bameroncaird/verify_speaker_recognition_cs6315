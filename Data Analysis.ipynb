{
 "cells": [
  {
   "cell_type": "markdown",
   "metadata": {},
   "source": [
    "# Data Analysis\n",
    "\n",
    "Austin Coursey and Cameron Baird\n",
    "\n",
    "Analyzing data generated from speaker identification verification."
   ]
  },
  {
   "cell_type": "code",
   "execution_count": 122,
   "metadata": {},
   "outputs": [],
   "source": [
    "import matplotlib.pyplot as plt\n",
    "import numpy as np \n",
    "import pandas as pd\n",
    "import os"
   ]
  },
  {
   "cell_type": "code",
   "execution_count": 123,
   "metadata": {},
   "outputs": [
    {
     "data": {
      "text/plain": [
       "['adversarial_config1_mlp_dense16_mu_compress_rate_2kHz_eps_0.25_exact.csv',\n",
       " 'adversarial_config1_mlp_dense16_mu_compress_rate_2kHz_eps_0.5_exact.csv',\n",
       " 'cnn_1d_rate_2kHz_mu_compress_eps_0.1_approx.csv',\n",
       " 'cnn_1d_rate_2kHz_mu_compress_eps_0.25_approx.csv',\n",
       " 'mlp_adversarial_dense16_mu_compress_rate_2kHz_eps_0.25_approx.csv',\n",
       " 'mlp_adversarial_dense16_mu_compress_rate_2kHz_eps_0.25_exact.csv',\n",
       " 'mlp_adversarial_dense16_mu_compress_rate_2kHz_higher_reg_weight_eps_0.25_exact.csv',\n",
       " 'mlp_adversarial_dense16_mu_compress_rate_2kHz_moreparams_eps_0.25_approx.csv',\n",
       " 'mlp_adversarial_dense16_mu_compress_rate_2kHz_moreparams_eps_0.25_exact.csv',\n",
       " 'mlp_dense16_mu_compress_rate_2kHz_eps_0.01_approx.csv',\n",
       " 'mlp_dense16_mu_compress_rate_2kHz_eps_0.01_exact.csv',\n",
       " 'mlp_dense16_mu_compress_rate_2kHz_eps_0.05_approx.csv',\n",
       " 'mlp_dense16_mu_compress_rate_2kHz_eps_0.05_exact.csv',\n",
       " 'mlp_dense16_mu_compress_rate_2kHz_eps_0.1_approx.csv',\n",
       " 'mlp_dense16_mu_compress_rate_2kHz_eps_0.1_exact.csv',\n",
       " 'mlp_dense16_mu_compress_rate_2kHz_eps_0.25_approx.csv',\n",
       " 'mlp_dense16_mu_compress_rate_2kHz_eps_0.25_exact.csv',\n",
       " 'mlp_dense16_mu_compress_rate_2kHz_eps_0.5_exact.csv']"
      ]
     },
     "execution_count": 123,
     "metadata": {},
     "output_type": "execute_result"
    }
   ],
   "source": [
    "os.listdir('./data/')"
   ]
  },
  {
   "cell_type": "code",
   "execution_count": 124,
   "metadata": {},
   "outputs": [],
   "source": [
    "def calculate_metrics(dataset, name):\n",
    "    print(f'Metrics for {name}')\n",
    "    \n",
    "    robust_percentage = np.mean(dataset['robust'] == 1)\n",
    "    print(f'Percentage robust: {robust_percentage}')\n",
    "    \n",
    "    percent_correct = np.mean(dataset[' target'] == dataset[' y_pred'])\n",
    "    print(f'Percentage correct: {percent_correct}')\n",
    "    \n",
    "    setup_time = dataset[' time_setup'].to_numpy()\n",
    "    star_time = dataset[' time_star'].to_numpy()\n",
    "    verify_time = dataset[' time_verify'].to_numpy()\n",
    "    \n",
    "    print(f'Average time to setup: {np.mean(setup_time+star_time):.4f} + time to verify: {np.mean(verify_time):.4f} = {np.mean(setup_time+verify_time+star_time):.4f}')\n",
    "    print()"
   ]
  },
  {
   "cell_type": "markdown",
   "metadata": {},
   "source": [
    "#### Metrics across all data"
   ]
  },
  {
   "cell_type": "code",
   "execution_count": 125,
   "metadata": {},
   "outputs": [
    {
     "name": "stdout",
     "output_type": "stream",
     "text": [
      "Metrics for adversarial_config1_mlp_dense16_mu_compress_rate_2kHz_eps_0.25_exact.csv\n",
      "Percentage robust: 0.809\n",
      "Percentage correct: 0.944\n",
      "Average time to setup: 0.0705 + time to verify: 0.2534 = 0.3238\n",
      "\n",
      "Metrics for adversarial_config1_mlp_dense16_mu_compress_rate_2kHz_eps_0.5_exact.csv\n",
      "Percentage robust: 0.657\n",
      "Percentage correct: 0.944\n",
      "Average time to setup: 0.0744 + time to verify: 2.2693 = 2.3437\n",
      "\n",
      "Metrics for cnn_1d_rate_2kHz_mu_compress_eps_0.1_approx.csv\n",
      "Percentage robust: 0.969\n",
      "Percentage correct: 0.974\n",
      "Average time to setup: 0.0865 + time to verify: 8.6988 = 8.7853\n",
      "\n",
      "Metrics for cnn_1d_rate_2kHz_mu_compress_eps_0.25_approx.csv\n",
      "Percentage robust: 0.963\n",
      "Percentage correct: 0.974\n",
      "Average time to setup: 0.0872 + time to verify: 21.3700 = 21.4571\n",
      "\n",
      "Metrics for mlp_adversarial_dense16_mu_compress_rate_2kHz_eps_0.25_approx.csv\n",
      "Percentage robust: 0.594\n",
      "Percentage correct: 0.967\n",
      "Average time to setup: 0.0715 + time to verify: 0.0530 = 0.1245\n",
      "\n",
      "Metrics for mlp_adversarial_dense16_mu_compress_rate_2kHz_eps_0.25_exact.csv\n",
      "Percentage robust: 0.663\n",
      "Percentage correct: 0.967\n",
      "Average time to setup: 0.0677 + time to verify: 0.6809 = 0.7486\n",
      "\n",
      "Metrics for mlp_adversarial_dense16_mu_compress_rate_2kHz_higher_reg_weight_eps_0.25_exact.csv\n",
      "Percentage robust: 0.642\n",
      "Percentage correct: 0.948\n",
      "Average time to setup: 0.0670 + time to verify: 0.6233 = 0.6903\n",
      "\n",
      "Metrics for mlp_adversarial_dense16_mu_compress_rate_2kHz_moreparams_eps_0.25_approx.csv\n",
      "Percentage robust: 0.609\n",
      "Percentage correct: 0.961\n",
      "Average time to setup: 0.2109 + time to verify: 0.2225 = 0.4334\n",
      "\n",
      "Metrics for mlp_adversarial_dense16_mu_compress_rate_2kHz_moreparams_eps_0.25_exact.csv\n",
      "Percentage robust: 0.665\n",
      "Percentage correct: 0.961\n",
      "Average time to setup: 0.1061 + time to verify: 0.8700 = 0.9762\n",
      "\n",
      "Metrics for mlp_dense16_mu_compress_rate_2kHz_eps_0.01_approx.csv\n",
      "Percentage robust: 0.967\n",
      "Percentage correct: 0.967\n",
      "Average time to setup: 0.0720 + time to verify: 0.0206 = 0.0926\n",
      "\n",
      "Metrics for mlp_dense16_mu_compress_rate_2kHz_eps_0.01_exact.csv\n",
      "Percentage robust: 0.967\n",
      "Percentage correct: 0.967\n",
      "Average time to setup: 0.0757 + time to verify: 0.0228 = 0.0985\n",
      "\n",
      "Metrics for mlp_dense16_mu_compress_rate_2kHz_eps_0.05_approx.csv\n",
      "Percentage robust: 0.966\n",
      "Percentage correct: 0.967\n",
      "Average time to setup: 0.0729 + time to verify: 0.0243 = 0.0972\n",
      "\n",
      "Metrics for mlp_dense16_mu_compress_rate_2kHz_eps_0.05_exact.csv\n",
      "Percentage robust: 0.966\n",
      "Percentage correct: 0.967\n",
      "Average time to setup: 0.0766 + time to verify: 0.0383 = 0.1149\n",
      "\n",
      "Metrics for mlp_dense16_mu_compress_rate_2kHz_eps_0.1_approx.csv\n",
      "Percentage robust: 0.951\n",
      "Percentage correct: 0.967\n",
      "Average time to setup: 0.0727 + time to verify: 0.0298 = 0.1025\n",
      "\n",
      "Metrics for mlp_dense16_mu_compress_rate_2kHz_eps_0.1_exact.csv\n",
      "Percentage robust: 0.958\n",
      "Percentage correct: 0.967\n",
      "Average time to setup: 0.0765 + time to verify: 0.0772 = 0.1537\n",
      "\n",
      "Metrics for mlp_dense16_mu_compress_rate_2kHz_eps_0.25_approx.csv\n",
      "Percentage robust: 0.624\n",
      "Percentage correct: 0.967\n",
      "Average time to setup: 0.0718 + time to verify: 0.0498 = 0.1216\n",
      "\n",
      "Metrics for mlp_dense16_mu_compress_rate_2kHz_eps_0.25_exact.csv\n",
      "Percentage robust: 0.678\n",
      "Percentage correct: 0.967\n",
      "Average time to setup: 0.0648 + time to verify: 0.5001 = 0.5649\n",
      "\n",
      "Metrics for mlp_dense16_mu_compress_rate_2kHz_eps_0.5_exact.csv\n",
      "Percentage robust: 0.647\n",
      "Percentage correct: 0.967\n",
      "Average time to setup: 0.0741 + time to verify: 2.4328 = 2.5069\n",
      "\n"
     ]
    }
   ],
   "source": [
    "data_dir = './data/'\n",
    "for path in os.listdir(data_dir):\n",
    "    full_path = data_dir + path\n",
    "    calculate_metrics(pd.read_csv(full_path), path)"
   ]
  }
 ],
 "metadata": {
  "kernelspec": {
   "display_name": "deep_learn",
   "language": "python",
   "name": "python3"
  },
  "language_info": {
   "codemirror_mode": {
    "name": "ipython",
    "version": 3
   },
   "file_extension": ".py",
   "mimetype": "text/x-python",
   "name": "python",
   "nbconvert_exporter": "python",
   "pygments_lexer": "ipython3",
   "version": "3.10.9"
  }
 },
 "nbformat": 4,
 "nbformat_minor": 2
}
